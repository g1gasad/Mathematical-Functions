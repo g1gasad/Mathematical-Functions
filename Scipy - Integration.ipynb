{
 "cells": [
  {
   "cell_type": "code",
   "execution_count": 6,
   "id": "8d26086a-714a-4273-9749-d437a546acab",
   "metadata": {},
   "outputs": [],
   "source": [
    "from scipy import integrate\n",
    "import numpy as np"
   ]
  },
  {
   "cell_type": "code",
   "execution_count": 51,
   "id": "ec4da76d-fc20-4760-85a2-2cf907d519fd",
   "metadata": {},
   "outputs": [
    {
     "name": "stdout",
     "output_type": "stream",
     "text": [
      "The result of the integration is: 2.302585092994052\n"
     ]
    }
   ],
   "source": [
    "def my_function(x):\n",
    "    try:\n",
    "        return 1/x\n",
    "    except Exception as e:\n",
    "        print(f\"{e}\")\n",
    "# Set the integration limits\n",
    "lower_limit = 1\n",
    "upper_limit = 10\n",
    "\n",
    "# Use the quad function for numerical integration\n",
    "result, error = integrate.quad(my_function, lower_limit, upper_limit)\n",
    "\n",
    "# Print the result\n",
    "print(\"The result of the integration is:\", result)\n"
   ]
  },
  {
   "cell_type": "code",
   "execution_count": 43,
   "id": "6712ef6e-11ab-4c1a-b04a-18b4f93af603",
   "metadata": {},
   "outputs": [
    {
     "name": "stdout",
     "output_type": "stream",
     "text": [
      "ufunc 'log10' not supported for the input types, and the inputs could not be safely coerced to any supported types according to the casting rule ''safe''\n"
     ]
    }
   ],
   "source": [
    "my_function(\"f\")"
   ]
  },
  {
   "cell_type": "code",
   "execution_count": 46,
   "id": "eb7ae0d0-b6f3-4ede-ab88-92e0d45b72b5",
   "metadata": {},
   "outputs": [
    {
     "data": {
      "text/plain": [
       "0.3333333333333333"
      ]
     },
     "execution_count": 46,
     "metadata": {},
     "output_type": "execute_result"
    }
   ],
   "source": [
    "1/3"
   ]
  }
 ],
 "metadata": {
  "kernelspec": {
   "display_name": "Python 3 (ipykernel)",
   "language": "python",
   "name": "python3"
  },
  "language_info": {
   "codemirror_mode": {
    "name": "ipython",
    "version": 3
   },
   "file_extension": ".py",
   "mimetype": "text/x-python",
   "name": "python",
   "nbconvert_exporter": "python",
   "pygments_lexer": "ipython3",
   "version": "3.11.5"
  }
 },
 "nbformat": 4,
 "nbformat_minor": 5
}
